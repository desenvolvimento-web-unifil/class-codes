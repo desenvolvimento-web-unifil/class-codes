{
  "nbformat": 4,
  "nbformat_minor": 0,
  "metadata": {
    "colab": {
      "name": "exemplo colab aula",
      "provenance": [],
      "mount_file_id": "1TIW7_2KSR_3qHzefNL-6tfg_updtxcsb",
      "authorship_tag": "ABX9TyOhVRhjohReha9VxMSPh6/6",
      "include_colab_link": true
    },
    "kernelspec": {
      "name": "python3",
      "display_name": "Python 3"
    },
    "language_info": {
      "name": "python"
    }
  },
  "cells": [
    {
      "cell_type": "markdown",
      "metadata": {
        "id": "view-in-github",
        "colab_type": "text"
      },
      "source": [
        "<a href=\"https://colab.research.google.com/github/COMP3017/class-codes/blob/master/exemplo_colab_aula.ipynb\" target=\"_parent\"><img src=\"https://colab.research.google.com/assets/colab-badge.svg\" alt=\"Open In Colab\"/></a>"
      ]
    },
    {
      "cell_type": "markdown",
      "source": [
        "# Exemplo do colab\n",
        "\n",
        "**Negrito**\n",
        "\n",
        "_negrito_\n",
        "\n",
        "`let c = 0`\n",
        "\n",
        "[link pro google](https://google.com)\n",
        "\n",
        "\n",
        "\n",
        "1.   Item da lista\n",
        "2.   Item da lista\n",
        "\n",
        "\n",
        "*   Item da lista\n",
        "*   Item da lista\n",
        "\n",
        "---\n",
        "\n",
        "\n",
        "\n",
        "\n",
        "\n",
        "\n",
        "\n"
      ],
      "metadata": {
        "id": "Gr5gf5fyp9nc"
      }
    },
    {
      "cell_type": "code",
      "source": [
        "import numpy as np\n"
      ],
      "metadata": {
        "id": "Q2YbolKrq7Mm"
      },
      "execution_count": 10,
      "outputs": []
    },
    {
      "cell_type": "code",
      "source": [
        "soma(10,8)"
      ],
      "metadata": {
        "colab": {
          "base_uri": "https://localhost:8080/"
        },
        "id": "cCJoQJ9TrNo6",
        "outputId": "267e15f3-b9f0-4f89-ef78-579fa61ad506"
      },
      "execution_count": 11,
      "outputs": [
        {
          "output_type": "execute_result",
          "data": {
            "text/plain": [
              "18"
            ]
          },
          "metadata": {},
          "execution_count": 11
        }
      ]
    },
    {
      "cell_type": "code",
      "source": [
        "def soma(a, b):\n",
        "  return a + b"
      ],
      "metadata": {
        "id": "0ngvM7plrNx6"
      },
      "execution_count": 12,
      "outputs": []
    }
  ]
}